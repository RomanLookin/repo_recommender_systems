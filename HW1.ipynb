{
 "cells": [
  {
   "cell_type": "code",
   "execution_count": 1,
   "id": "3b7fec54",
   "metadata": {},
   "outputs": [],
   "source": [
    "import pandas as pd\n",
    "import numpy as np"
   ]
  },
  {
   "cell_type": "code",
   "execution_count": null,
   "id": "133fddae",
   "metadata": {},
   "outputs": [],
   "source": [
    "# список товаров, которые мы порекомендуем пользователю в заданном порядке\n",
    "recommended_list = [143, 156, 1134, 991, 27, 1543, 3345, 533, 11, 43] #id товаров\n",
    "# юзер 1 купил данные товары\n",
    "bought_list = [521, 32, 143, 991]"
   ]
  },
  {
   "cell_type": "code",
   "execution_count": null,
   "id": "d794618e",
   "metadata": {},
   "outputs": [],
   "source": [
    "def hit_rate(recommended_list, bought_list):\n",
    "    bought_list = np.array(bought_list)\n",
    "    recommended_list = np.array(recommended_list)\n",
    "   \n",
    "    flags = np.isin(bought_list, recommended_list)\n",
    "    return (flags.sum() > 0) * 1"
   ]
  },
  {
   "cell_type": "code",
   "execution_count": null,
   "id": "a1418019",
   "metadata": {},
   "outputs": [],
   "source": [
    "hit_rate(recommended_list, bought_list)"
   ]
  },
  {
   "cell_type": "code",
   "execution_count": null,
   "id": "457846e1",
   "metadata": {},
   "outputs": [],
   "source": [
    "def hit_rate_at_k(recommended_list, bought_list, k=5):\n",
    "#   сделать в домашней работе\n",
    "    #bought_list = np.array(bought_list)\n",
    "    #recommended_list = np.array(recommended_list)\n",
    "    #flags = np.isin(bought_list, recommended_list[:k])\n",
    "    #return (flags.sum() > 0) * 1\n",
    "    return hit_rate(recommended_list[:k], bought_list)"
   ]
  },
  {
   "cell_type": "code",
   "execution_count": null,
   "id": "2dff4e92",
   "metadata": {},
   "outputs": [],
   "source": [
    "hit_rate_at_k(recommended_list, bought_list)"
   ]
  },
  {
   "cell_type": "code",
   "execution_count": null,
   "id": "339b8f8e",
   "metadata": {},
   "outputs": [],
   "source": [
    "recommended_list = [2,3,8,6,9,2,5,10] #id товаров\n",
    "bought_list = [1,5,6]"
   ]
  },
  {
   "cell_type": "code",
   "execution_count": null,
   "id": "455f7607",
   "metadata": {},
   "outputs": [],
   "source": [
    "def precision(recommended_list, bought_list):\n",
    "    bought_list = np.array(bought_list)\n",
    "    recommended_list = np.array(recommended_list)\n",
    "    \n",
    "    flags = np.isin(bought_list, recommended_list)\n",
    "    return flags.sum() / len(recommended_list)"
   ]
  },
  {
   "cell_type": "code",
   "execution_count": null,
   "id": "46a084aa",
   "metadata": {},
   "outputs": [],
   "source": [
    "precision(recommended_list, bought_list)"
   ]
  },
  {
   "cell_type": "code",
   "execution_count": null,
   "id": "d9a4a196",
   "metadata": {},
   "outputs": [],
   "source": [
    "def precision_at_k(recommended_list, bought_list, k=5):\n",
    "    return precision(recommended_list[:k], bought_list)"
   ]
  },
  {
   "cell_type": "code",
   "execution_count": null,
   "id": "2be1535a",
   "metadata": {},
   "outputs": [],
   "source": [
    "precision_at_k(recommended_list, bought_list, k=5)"
   ]
  },
  {
   "cell_type": "code",
   "execution_count": null,
   "id": "830644a9",
   "metadata": {},
   "outputs": [],
   "source": [
    "def money_precision_at_k(recommended_list, bought_list, prices_recommended, k=5):\n",
    "    \n",
    "    recommend_list = np.array(recommended_list)[:k]\n",
    "    prices_recommended = np.array(prices_recommended)[:k]\n",
    "    \n",
    "    flags = np.isin(recommend_list, bought_list)\n",
    "    \n",
    "    precision = np.dot(flags, prices_recommended).sum() / prices_recommended.sum()\n",
    "    \n",
    "    return precision"
   ]
  },
  {
   "cell_type": "code",
   "execution_count": null,
   "id": "9cd8df48",
   "metadata": {},
   "outputs": [],
   "source": [
    "prices = [23,2233,534,56,1]\n",
    "money_precision_at_k(recommended_list, bought_list, prices)"
   ]
  },
  {
   "cell_type": "code",
   "execution_count": null,
   "id": "724ba164",
   "metadata": {},
   "outputs": [],
   "source": [
    "recommended_list = [2,3,8,6,9,2,5,10] #id товаров\n",
    "bought_list = [1,5,6]"
   ]
  },
  {
   "cell_type": "code",
   "execution_count": null,
   "id": "64dcec3c",
   "metadata": {},
   "outputs": [],
   "source": [
    "def recall(recommended_list, bought_list):\n",
    "    bought_list = np.array(bought_list)\n",
    "    recommended_list = np.array(recommended_list)\n",
    "    flags = np.isin(bought_list, recommended_list)\n",
    "    return flags.sum() / len(bought_list) "
   ]
  },
  {
   "cell_type": "code",
   "execution_count": null,
   "id": "e0a1dbb8",
   "metadata": {},
   "outputs": [],
   "source": [
    "recall(recommended_list, bought_list)"
   ]
  },
  {
   "cell_type": "code",
   "execution_count": null,
   "id": "1ccbaf5b",
   "metadata": {},
   "outputs": [],
   "source": [
    "def recall_at_k(recommended_list, bought_list, k=5):\n",
    "    return recall(recommended_list[:k], bought_list)\n",
    "#    сделать дома"
   ]
  },
  {
   "cell_type": "code",
   "execution_count": null,
   "id": "3455e0d7",
   "metadata": {},
   "outputs": [],
   "source": [
    "recall_at_k(recommended_list,bought_list,k=5)"
   ]
  },
  {
   "cell_type": "code",
   "execution_count": null,
   "id": "e5085b2b",
   "metadata": {},
   "outputs": [],
   "source": [
    "def money_recall_at_k(recommended_list, bought_list, prices_recommended, prices_bought, k=5):\n",
    "    bought_list = np.array(bought_list)\n",
    "    prices_bought = np.array(prices_bought)\n",
    "    recommended_list = np.array(recommended_list)[:k]\n",
    "    prices_recommended = np.array(prices_recommended)[:k]\n",
    "\n",
    "    flags = np.isin(recommended_list, bought_list)\n",
    "    return np.dot(flags, prices_recommended)/prices_bought.sum()\n",
    "    # сделать дома"
   ]
  },
  {
   "cell_type": "code",
   "execution_count": null,
   "id": "0b53e15d",
   "metadata": {},
   "outputs": [],
   "source": [
    "# теперь список из 3 пользователей\n",
    "recommended_list_3_users = [[143, 156, 1134, 991, 27, 1543, 3345, 533, 11, 43], \n",
    "                    [1134, 533, 14, 4, 15, 1543, 1, 99, 27, 3345],\n",
    "                    [991, 3345, 27, 533, 43, 143, 1543, 156, 1134, 11]\n",
    "                    ]\n",
    "\n",
    "bought_list_3_users = [[521, 32, 143],  # юзер 1\n",
    "                       [143, 156, 991, 43, 11], # юзер 2\n",
    "                       [1,2]] # юзер 3"
   ]
  },
  {
   "cell_type": "code",
   "execution_count": null,
   "id": "3c52fc44",
   "metadata": {},
   "outputs": [],
   "source": [
    "def map_k(recommended_list, bought_list, k=5):\n",
    "    num_user=len(recommended_list)\n",
    "    \n",
    "    sum_ = sum([ap_k(recommended_list[index_user], bought_list[index_user], k=k) for index_user in range(num_user)])\n",
    "    result=sum_/num_user\n",
    "    \n",
    "    # сделать дома\n",
    "    \n",
    "    return result"
   ]
  },
  {
   "cell_type": "code",
   "execution_count": null,
   "id": "9820f499",
   "metadata": {},
   "outputs": [],
   "source": [
    "map_k(recommended_list_3_users, bought_list_3_users, k=5)"
   ]
  },
  {
   "cell_type": "code",
   "execution_count": null,
   "id": "0f4214f0",
   "metadata": {},
   "outputs": [],
   "source": [
    "recommended_list = [1, 21, 22, 4, 234, 232432,234234,666] #id товаров\n",
    "bought_list = [1, 221, 3, 4,]"
   ]
  },
  {
   "cell_type": "code",
   "execution_count": null,
   "id": "a6efa3fc",
   "metadata": {},
   "outputs": [],
   "source": [
    "import math"
   ]
  },
  {
   "cell_type": "code",
   "execution_count": null,
   "id": "55f3d9bb",
   "metadata": {},
   "outputs": [],
   "source": [
    "# по желанию\n",
    "def ndcg_at_k(recommended_list, bought_list, k=5):\n",
    "    bought_list1 = np.array(bought_list)\n",
    "    recommended_list1 = np.array(recommended_list[:k])\n",
    "    len_rl=len(recommended_list1)\n",
    "    idealDCG=0\n",
    "    DCG=0\n",
    "    for krl in range(len_rl):\n",
    "        if krl<2:zn=krl+1\n",
    "        else:zn=math.log2(krl+1)\n",
    "        idealDCG+=1/zn\n",
    "    idealDCG=idealDCG/len_rl\n",
    "    #print(idealDCG)\n",
    "    relevant_indexes = np.nonzero(np.isin(recommended_list1, bought_list1))[0]\n",
    "    if len(relevant_indexes)==0:\n",
    "        return 0 #print('rel_ind=0')\n",
    "    else:\n",
    "        for ind in relevant_indexes:\n",
    "            if ind==0 or ind==1:\n",
    "                zn=ind+1\n",
    "            else:zn=math.log2(ind+1)\n",
    "            DCG+=1/zn\n",
    "        DCG=DCG/len_rl\n",
    "    return DCG/idealDCG\n",
    "    #pass"
   ]
  },
  {
   "cell_type": "code",
   "execution_count": null,
   "id": "dbd7ade0",
   "metadata": {},
   "outputs": [],
   "source": []
  },
  {
   "cell_type": "code",
   "execution_count": null,
   "id": "e3bbb4de",
   "metadata": {},
   "outputs": [],
   "source": [
    "def reciprocal_rank(recommended_list, bought_list, k=1):\n",
    "    #rels=0\n",
    "    relss=[]\n",
    "    num_user=len(recommended_list)\n",
    "    \n",
    "    for index_user in range(num_user):\n",
    "        bought_list1 = np.array(bought_list[index_user])\n",
    "        recommended_list1 = np.array(recommended_list[index_user])\n",
    "        recommended_list2=recommended_list1[:k]\n",
    "        #print(recommended_list2)\n",
    "       # print(bought_list1)\n",
    "        relevant_indexes = np.nonzero(np.isin(recommended_list2, bought_list1))[0]\n",
    "        if len(relevant_indexes)!=0:\n",
    "            #rels+=1/(relevant_indexes[0]+1)\n",
    "            relss.append(1/(relevant_indexes[0]+1))\n",
    "        else:relss.append(0)\n",
    "    relss=np.array(relss)\n",
    "    return relss.mean()\n",
    "    # сделать дома\n",
    "#    pass"
   ]
  },
  {
   "cell_type": "code",
   "execution_count": null,
   "id": "11fa1cfe",
   "metadata": {},
   "outputs": [],
   "source": [
    "reciprocal_rank(recommended_list_3_users, bought_list_3_users, k=5)"
   ]
  }
 ],
 "metadata": {
  "kernelspec": {
   "display_name": "Python 3",
   "language": "python",
   "name": "python3"
  },
  "language_info": {
   "codemirror_mode": {
    "name": "ipython",
    "version": 3
   },
   "file_extension": ".py",
   "mimetype": "text/x-python",
   "name": "python",
   "nbconvert_exporter": "python",
   "pygments_lexer": "ipython3",
   "version": "3.8.8"
  }
 },
 "nbformat": 4,
 "nbformat_minor": 5
}
